{
 "cells": [
  {
   "cell_type": "markdown",
   "metadata": {},
   "source": [
    "# Tensorflow Example"
   ]
  },
  {
   "cell_type": "code",
   "execution_count": 8,
   "metadata": {},
   "outputs": [],
   "source": [
    "import tensorflow as tf\n",
    "import tensorflow_datasets as tfds\n",
    "import mlflow\n",
    "from dotenv import load_dotenv\n",
    "import os, datetime\n",
    "import boto3"
   ]
  },
  {
   "cell_type": "code",
   "execution_count": 2,
   "metadata": {},
   "outputs": [],
   "source": [
    "# Settting up environment variables\n",
    "\n",
    "load_dotenv()  \n",
    "\n",
    "S3_BUCKET = os.getenv(\"S3_BUCKET\")\n",
    "AWS_ACCESS_KEY_ID = os.getenv(\"AWS_ACCESS_KEY_ID\")\n",
    "AWS_SECRET_ACCESS_KEY = os.getenv(\"AWS_SECRET_ACCESS_KEY\")\n",
    "TRACKING_URI = os.getenv(\"TRACKING_URI\")"
   ]
  },
  {
   "cell_type": "code",
   "execution_count": 3,
   "metadata": {},
   "outputs": [],
   "source": [
    "boto3.setup_default_session(\n",
    "    aws_access_key_id=AWS_ACCESS_KEY_ID,\n",
    "    aws_secret_access_key=AWS_SECRET_ACCESS_KEY,\n",
    ")"
   ]
  },
  {
   "cell_type": "markdown",
   "metadata": {},
   "source": [
    "# Prearing the dataset"
   ]
  },
  {
   "cell_type": "code",
   "execution_count": 4,
   "metadata": {},
   "outputs": [],
   "source": [
    "(ds_train, ds_test), ds_info = tfds.load(\n",
    " \"mnist\",\n",
    " split=[\"train\", \"test\"],\n",
    " shuffle_files=True,\n",
    " as_supervised=True,\n",
    " with_info=True,\n",
    ")\n",
    "# Normalizes images: `uint8` -> `float32`\n",
    "def normalize_img(image, label):\n",
    " return tf.cast(image, tf.float32) / 255., label\n",
    " \n",
    "# Train Dataset\n",
    "ds_train = ds_train.map(\n",
    " normalize_img, num_parallel_calls=tf.data.experimental.AUTOTUNE)\n",
    "ds_train = ds_train.cache()\n",
    "ds_train = ds_train.shuffle(ds_info.splits[\"train\"].num_examples)\n",
    "ds_train = ds_train.batch(128)\n",
    "ds_train = ds_train.prefetch(tf.data.experimental.AUTOTUNE)\n",
    "# Test Dataset\n",
    "ds_test = ds_test.map(\n",
    " normalize_img, num_parallel_calls=tf.data.experimental.AUTOTUNE)\n",
    "ds_test = ds_test.batch(128)\n",
    "ds_test = ds_test.cache()\n",
    "ds_test = ds_test.prefetch(tf.data.experimental.AUTOTUNE)"
   ]
  },
  {
   "cell_type": "markdown",
   "metadata": {},
   "source": [
    "# Defining the model"
   ]
  },
  {
   "cell_type": "code",
   "execution_count": 16,
   "metadata": {},
   "outputs": [],
   "source": [
    "# Define the layers\n",
    "inputs = tf.keras.Input(shape=(28, 28, 1))\n",
    "hidden = tf.keras.layers.Flatten()(inputs)\n",
    "hidden2 = tf.keras.layers.Dense(64, activation=\"relu\")(hidden)\n",
    "outputs = tf.keras.layers.Dense(10, activation=\"softmax\")(hidden2)\n",
    "# Optimizer\n",
    "opt = tf.keras.optimizers.Adam(learning_rate=0.002)\n",
    "# Create a Model object\n",
    "model = tf.keras.Model(inputs, outputs)\n",
    "# Compile the model\n",
    "model.compile(optimizer=opt, loss=\"sparse_categorical_crossentropy\", metrics=[\"accuracy\"])"
   ]
  },
  {
   "cell_type": "code",
   "execution_count": 17,
   "metadata": {},
   "outputs": [
    {
     "name": "stdout",
     "output_type": "stream",
     "text": [
      "Model: \"model_1\"\n",
      "_________________________________________________________________\n",
      " Layer (type)                Output Shape              Param #   \n",
      "=================================================================\n",
      " input_2 (InputLayer)        [(None, 28, 28, 1)]       0         \n",
      "                                                                 \n",
      " flatten_1 (Flatten)         (None, 784)               0         \n",
      "                                                                 \n",
      " dense_2 (Dense)             (None, 64)                50240     \n",
      "                                                                 \n",
      " dense_3 (Dense)             (None, 10)                650       \n",
      "                                                                 \n",
      "=================================================================\n",
      "Total params: 50,890\n",
      "Trainable params: 50,890\n",
      "Non-trainable params: 0\n",
      "_________________________________________________________________\n"
     ]
    }
   ],
   "source": [
    "model.summary()"
   ]
  },
  {
   "cell_type": "code",
   "execution_count": 23,
   "metadata": {},
   "outputs": [],
   "source": [
    "BATCH_SIZE = 128\n",
    "EPOCHS = 20\n",
    "LOGGING_STEPS = 10\n",
    "\n",
    "MODELNAME = \"Simple_Net\"\n",
    "EXPERIMENT = \"MNIST\"\n",
    "RUN_NAME = \"Run_8\"\n",
    "\n",
    "logdir = os.path.join(\"logs\", MODELNAME, datetime.datetime.now().strftime(\"%Y%m%d-%H%M%S\"))\n"
   ]
  },
  {
   "cell_type": "code",
   "execution_count": 24,
   "metadata": {},
   "outputs": [
    {
     "data": {
      "text/plain": [
       "'logs\\\\Simple_Net\\\\20221003-194940'"
      ]
     },
     "execution_count": 24,
     "metadata": {},
     "output_type": "execute_result"
    }
   ],
   "source": [
    "logdir"
   ]
  },
  {
   "cell_type": "code",
   "execution_count": 25,
   "metadata": {},
   "outputs": [
    {
     "data": {
      "text/plain": [
       "<ActiveRun: >"
      ]
     },
     "execution_count": 25,
     "metadata": {},
     "output_type": "execute_result"
    }
   ],
   "source": [
    "mlflow.tensorflow.autolog(every_n_iter=LOGGING_STEPS)\n",
    "mlflow.set_tracking_uri(TRACKING_URI)\n",
    "mlflow.set_experiment(EXPERIMENT)\n",
    "mlflow.start_run(run_name=RUN_NAME)"
   ]
  },
  {
   "cell_type": "code",
   "execution_count": 26,
   "metadata": {},
   "outputs": [],
   "source": [
    "# Tensorflow Callbacks\n",
    "\n",
    "tensorboard_callback = tf.keras.callbacks.TensorBoard(logdir, histogram_freq=1)\n",
    "checkpoint = tf.keras.callbacks.ModelCheckpoint(MODELNAME, save_weights_only=True)\n",
    "early_stopping = tf.keras.callbacks.EarlyStopping(monitor='val_loss', \n",
    "                                min_delta=0, \n",
    "                                patience=4, \n",
    "                                verbose=0, \n",
    "                                mode='auto', \n",
    "                                restore_best_weights=False)"
   ]
  },
  {
   "cell_type": "code",
   "execution_count": 28,
   "metadata": {},
   "outputs": [
    {
     "name": "stderr",
     "output_type": "stream",
     "text": [
      "2022/10/03 19:50:46 INFO mlflow.utils.autologging_utils: Created MLflow autologging run with ID 'bd5cf2f1a5624becb30020055b86e6f5', which will track hyperparameters, performance metrics, model artifacts, and lineage information for the current tensorflow workflow\n"
     ]
    },
    {
     "name": "stdout",
     "output_type": "stream",
     "text": [
      "Epoch 1/20\n",
      "  1/469 [..............................] - ETA: 3:21 - loss: 0.0079 - accuracy: 1.0000WARNING:tensorflow:Callback method `on_train_batch_end` is slow compared to the batch time (batch time: 0.0029s vs `on_train_batch_end` time: 0.0651s). Check your callbacks.\n"
     ]
    },
    {
     "name": "stderr",
     "output_type": "stream",
     "text": [
      "WARNING:tensorflow:Callback method `on_train_batch_end` is slow compared to the batch time (batch time: 0.0029s vs `on_train_batch_end` time: 0.0651s). Check your callbacks.\n"
     ]
    },
    {
     "name": "stdout",
     "output_type": "stream",
     "text": [
      "469/469 [==============================] - 4s 7ms/step - loss: 0.0156 - accuracy: 0.9955 - val_loss: 0.0941 - val_accuracy: 0.9744\n",
      "Epoch 2/20\n",
      "469/469 [==============================] - 4s 8ms/step - loss: 0.0148 - accuracy: 0.9955 - val_loss: 0.0946 - val_accuracy: 0.9741\n",
      "Epoch 3/20\n",
      "469/469 [==============================] - 4s 8ms/step - loss: 0.0128 - accuracy: 0.9966 - val_loss: 0.0978 - val_accuracy: 0.9742\n",
      "Epoch 4/20\n",
      "469/469 [==============================] - 4s 8ms/step - loss: 0.0127 - accuracy: 0.9963 - val_loss: 0.0960 - val_accuracy: 0.9757\n",
      "Epoch 5/20\n",
      "469/469 [==============================] - 3s 6ms/step - loss: 0.0103 - accuracy: 0.9970 - val_loss: 0.1040 - val_accuracy: 0.9766\n",
      "INFO:tensorflow:Assets written to: C:\\Users\\Susanne\\AppData\\Local\\Temp\\tmp80ud2dr4\\model\\data\\model\\assets\n"
     ]
    },
    {
     "name": "stderr",
     "output_type": "stream",
     "text": [
      "INFO:tensorflow:Assets written to: C:\\Users\\Susanne\\AppData\\Local\\Temp\\tmp80ud2dr4\\model\\data\\model\\assets\n"
     ]
    }
   ],
   "source": [
    "history = model.fit(ds_train, epochs=EPOCHS, validation_data=ds_test,\n",
    "    batch_size=BATCH_SIZE,\n",
    "    use_multiprocessing = True,\n",
    "    callbacks = [tensorboard_callback, checkpoint, early_stopping])\n",
    "mlflow.end_run()"
   ]
  },
  {
   "cell_type": "code",
   "execution_count": null,
   "metadata": {},
   "outputs": [],
   "source": []
  },
  {
   "cell_type": "code",
   "execution_count": null,
   "metadata": {},
   "outputs": [],
   "source": []
  }
 ],
 "metadata": {
  "kernelspec": {
   "display_name": "tiny_cnn",
   "language": "python",
   "name": "tiny_cnn"
  },
  "language_info": {
   "codemirror_mode": {
    "name": "ipython",
    "version": 3
   },
   "file_extension": ".py",
   "mimetype": "text/x-python",
   "name": "python",
   "nbconvert_exporter": "python",
   "pygments_lexer": "ipython3",
   "version": "3.10.6"
  },
  "orig_nbformat": 4,
  "vscode": {
   "interpreter": {
    "hash": "5618f2993617940a5c26d2b4a732b1ce578923eb12d8dcc67dd41bd2b07dc9c1"
   }
  }
 },
 "nbformat": 4,
 "nbformat_minor": 2
}
