{
 "cells": [
  {
   "cell_type": "markdown",
   "metadata": {},
   "source": [
    "# Tensorflow Example"
   ]
  },
  {
   "cell_type": "code",
   "execution_count": 2,
   "metadata": {},
   "outputs": [],
   "source": [
    "import tensorflow as tf\n",
    "import tensorflow_datasets as tfds\n",
    "import mlflow\n",
    "from dotenv import load_dotenv\n",
    "import os\n",
    "import boto3"
   ]
  },
  {
   "cell_type": "code",
   "execution_count": 6,
   "metadata": {},
   "outputs": [],
   "source": [
    "# Settting up environment variables\n",
    "\n",
    "load_dotenv()  \n",
    "\n",
    "S3_BUCKET = os.getenv(\"S3_BUCKET\")\n",
    "AWS_ACCESS_KEY_ID = os.getenv(\"AWS_ACCESS_KEY_ID\")\n",
    "AWS_SECRET_ACCESS_KEY = os.getenv(\"AWS_SECRET_ACCESS_KEY\")"
   ]
  },
  {
   "cell_type": "code",
   "execution_count": 7,
   "metadata": {},
   "outputs": [
    {
     "ename": "NameError",
     "evalue": "name 'boto3' is not defined",
     "output_type": "error",
     "traceback": [
      "\u001b[1;31m---------------------------------------------------------------------------\u001b[0m",
      "\u001b[1;31mNameError\u001b[0m                                 Traceback (most recent call last)",
      "Cell \u001b[1;32mIn [7], line 1\u001b[0m\n\u001b[1;32m----> 1\u001b[0m \u001b[43mboto3\u001b[49m\u001b[38;5;241m.\u001b[39msetup_default_session(\n\u001b[0;32m      2\u001b[0m     aws_access_key_id\u001b[38;5;241m=\u001b[39mAWS_ACCESS_KEY_ID,\n\u001b[0;32m      3\u001b[0m     aws_secret_access_key\u001b[38;5;241m=\u001b[39mAWS_SECRET_ACCESS_KEY,\n\u001b[0;32m      4\u001b[0m )\n",
      "\u001b[1;31mNameError\u001b[0m: name 'boto3' is not defined"
     ]
    }
   ],
   "source": [
    "boto3.setup_default_session(\n",
    "    aws_access_key_id=AWS_ACCESS_KEY_ID,\n",
    "    aws_secret_access_key=AWS_SECRET_ACCESS_KEY,\n",
    ")"
   ]
  },
  {
   "cell_type": "markdown",
   "metadata": {},
   "source": [
    "# Prearing the dataset"
   ]
  },
  {
   "cell_type": "code",
   "execution_count": 2,
   "metadata": {},
   "outputs": [
    {
     "name": "stdout",
     "output_type": "stream",
     "text": [
      "\u001b[1mDownloading and preparing dataset Unknown size (download: Unknown size, generated: Unknown size, total: Unknown size) to ~\\tensorflow_datasets\\mnist\\3.0.1...\u001b[0m\n"
     ]
    },
    {
     "name": "stderr",
     "output_type": "stream",
     "text": [
      "Dl Completed...: 0 url [00:00, ? url/s]\n",
      "Dl Completed...:   0%|          | 0/1 [00:00<?, ? url/s]\n",
      "Dl Completed...: 100%|██████████| 1/1 [00:00<00:00, 83.34 url/s]\n",
      "Dl Completed...: 100%|██████████| 1/1 [00:00<00:00, 55.56 url/s]\n",
      "Dl Completed...: 100%|██████████| 1/1 [00:00<00:00, 41.67 url/s]\n",
      "Dl Completed...:  50%|█████     | 1/2 [00:00<00:00, 13.33 url/s]\n",
      "Dl Completed...: 100%|██████████| 2/2 [00:00<00:00, 24.69 url/s]\n",
      "Dl Completed...: 100%|██████████| 2/2 [00:00<00:00, 23.26 url/s]\n",
      "Dl Completed...: 100%|██████████| 2/2 [00:00<00:00, 21.73 url/s]\n",
      "Dl Completed...:  67%|██████▋   | 2/3 [00:00<00:00, 20.00 url/s]\n",
      "Dl Completed...: 100%|██████████| 3/3 [00:00<00:00, 28.30 url/s]\n",
      "Dl Completed...: 100%|██████████| 3/3 [00:00<00:00, 28.30 url/s]\n",
      "Dl Completed...: 100%|██████████| 3/3 [00:00<00:00, 28.30 url/s]\n",
      "Dl Completed...:  75%|███████▌  | 3/4 [00:00<00:00, 28.30 url/s]\n",
      "Dl Completed...: 100%|██████████| 4/4 [00:00<00:00, 28.30 url/s]\n",
      "Dl Completed...: 100%|██████████| 4/4 [00:00<00:00, 28.30 url/s]\n",
      "Dl Completed...: 100%|██████████| 4/4 [00:00<00:00, 28.30 url/s]\n",
      "Extraction completed...: 0 file [00:00, ? file/s]\n",
      "Dl Size...: 100%|██████████| 11594722/11594722 [00:00<00:00, 70270043.30 MiB/s]\n",
      "Dl Completed...: 100%|██████████| 4/4 [00:00<00:00, 23.67 url/s]\n",
      "                                                                        \r"
     ]
    },
    {
     "name": "stdout",
     "output_type": "stream",
     "text": [
      "\u001b[1mDataset mnist downloaded and prepared to ~\\tensorflow_datasets\\mnist\\3.0.1. Subsequent calls will reuse this data.\u001b[0m\n"
     ]
    }
   ],
   "source": [
    "(ds_train, ds_test), ds_info = tfds.load(\n",
    " \"mnist\",\n",
    " split=[\"train\", \"test\"],\n",
    " shuffle_files=True,\n",
    " as_supervised=True,\n",
    " with_info=True,\n",
    ")\n",
    "# Normalizes images: `uint8` -> `float32`\n",
    "def normalize_img(image, label):\n",
    " return tf.cast(image, tf.float32) / 255., label\n",
    " \n",
    "# Train Dataset\n",
    "ds_train = ds_train.map(\n",
    " normalize_img, num_parallel_calls=tf.data.experimental.AUTOTUNE)\n",
    "ds_train = ds_train.cache()\n",
    "ds_train = ds_train.shuffle(ds_info.splits[\"train\"].num_examples)\n",
    "ds_train = ds_train.batch(128)\n",
    "ds_train = ds_train.prefetch(tf.data.experimental.AUTOTUNE)\n",
    "# Test Dataset\n",
    "ds_test = ds_test.map(\n",
    " normalize_img, num_parallel_calls=tf.data.experimental.AUTOTUNE)\n",
    "ds_test = ds_test.batch(128)\n",
    "ds_test = ds_test.cache()\n",
    "ds_test = ds_test.prefetch(tf.data.experimental.AUTOTUNE)"
   ]
  },
  {
   "cell_type": "markdown",
   "metadata": {},
   "source": [
    "# Defining the model"
   ]
  },
  {
   "cell_type": "code",
   "execution_count": 3,
   "metadata": {},
   "outputs": [],
   "source": [
    "# Define the layers\n",
    "inputs = tf.keras.Input(shape=(28, 28, 1))\n",
    "hidden = tf.keras.layers.Flatten()(inputs)\n",
    "hidden2 = tf.keras.layers.Dense(128, activation=\"relu\")(hidden)\n",
    "outputs = tf.keras.layers.Dense(10, activation=\"softmax\")(hidden2)\n",
    "# Optimizer\n",
    "opt = tf.keras.optimizers.Adam(learning_rate=0.002)\n",
    "# Create a Model object\n",
    "model = tf.keras.Model(inputs, outputs)\n",
    "# Compile the model\n",
    "model.compile(optimizer=opt, loss=\"sparse_categorical_crossentropy\", metrics=[\"accuracy\"])"
   ]
  },
  {
   "cell_type": "code",
   "execution_count": 4,
   "metadata": {},
   "outputs": [
    {
     "name": "stdout",
     "output_type": "stream",
     "text": [
      "Model: \"model\"\n",
      "_________________________________________________________________\n",
      " Layer (type)                Output Shape              Param #   \n",
      "=================================================================\n",
      " input_1 (InputLayer)        [(None, 28, 28, 1)]       0         \n",
      "                                                                 \n",
      " flatten (Flatten)           (None, 784)               0         \n",
      "                                                                 \n",
      " dense (Dense)               (None, 128)               100480    \n",
      "                                                                 \n",
      " dense_1 (Dense)             (None, 10)                1290      \n",
      "                                                                 \n",
      "=================================================================\n",
      "Total params: 101,770\n",
      "Trainable params: 101,770\n",
      "Non-trainable params: 0\n",
      "_________________________________________________________________\n"
     ]
    }
   ],
   "source": [
    "model.summary()"
   ]
  },
  {
   "cell_type": "code",
   "execution_count": 11,
   "metadata": {},
   "outputs": [],
   "source": [
    "BATCH_SIZE = 128\n",
    "EPOCHS = 10\n",
    "LOGGING_STEPS = 10\n",
    "\n",
    "EXPERIMENT = \"MNIST\"\n",
    "RUN_NAME = \"Run_4\""
   ]
  },
  {
   "cell_type": "code",
   "execution_count": 16,
   "metadata": {},
   "outputs": [
    {
     "data": {
      "text/plain": [
       "<ActiveRun: >"
      ]
     },
     "execution_count": 16,
     "metadata": {},
     "output_type": "execute_result"
    }
   ],
   "source": [
    "mlflow.tensorflow.autolog(every_n_iter=LOGGING_STEPS)\n",
    "mlflow.set_experiment(EXPERIMENT)\n",
    "mlflow.start_run(run_name=RUN_NAME)"
   ]
  },
  {
   "cell_type": "code",
   "execution_count": 17,
   "metadata": {},
   "outputs": [
    {
     "name": "stdout",
     "output_type": "stream",
     "text": [
      "Epoch 1/10\n",
      "469/469 [==============================] - 2s 5ms/step - loss: 0.0030 - accuracy: 0.9991 - val_loss: 0.1587 - val_accuracy: 0.9769\n",
      "Epoch 2/10\n",
      "469/469 [==============================] - 2s 5ms/step - loss: 0.0034 - accuracy: 0.9987 - val_loss: 0.1509 - val_accuracy: 0.9772\n",
      "Epoch 3/10\n",
      "469/469 [==============================] - 2s 5ms/step - loss: 0.0037 - accuracy: 0.9988 - val_loss: 0.1334 - val_accuracy: 0.9791\n",
      "Epoch 4/10\n",
      "469/469 [==============================] - 2s 5ms/step - loss: 0.0055 - accuracy: 0.9983 - val_loss: 0.1597 - val_accuracy: 0.9761\n",
      "Epoch 5/10\n",
      "469/469 [==============================] - 2s 5ms/step - loss: 0.0052 - accuracy: 0.9985 - val_loss: 0.1457 - val_accuracy: 0.9795\n",
      "Epoch 6/10\n",
      "469/469 [==============================] - 2s 5ms/step - loss: 0.0011 - accuracy: 0.9997 - val_loss: 0.1423 - val_accuracy: 0.9797\n",
      "Epoch 7/10\n",
      "469/469 [==============================] - 2s 4ms/step - loss: 4.8705e-04 - accuracy: 0.9999 - val_loss: 0.1379 - val_accuracy: 0.9806\n",
      "Epoch 8/10\n",
      "469/469 [==============================] - 2s 5ms/step - loss: 4.2640e-04 - accuracy: 0.9999 - val_loss: 0.1395 - val_accuracy: 0.9797\n",
      "Epoch 9/10\n",
      "469/469 [==============================] - 2s 5ms/step - loss: 0.0024 - accuracy: 0.9992 - val_loss: 0.1730 - val_accuracy: 0.9753\n",
      "Epoch 10/10\n",
      "469/469 [==============================] - 2s 5ms/step - loss: 0.0140 - accuracy: 0.9958 - val_loss: 0.1475 - val_accuracy: 0.9792\n",
      "INFO:tensorflow:Assets written to: C:\\Users\\Susanne\\AppData\\Local\\Temp\\tmpo3kr5t0f\\model\\data\\model\\assets\n"
     ]
    },
    {
     "name": "stderr",
     "output_type": "stream",
     "text": [
      "INFO:tensorflow:Assets written to: C:\\Users\\Susanne\\AppData\\Local\\Temp\\tmpo3kr5t0f\\model\\data\\model\\assets\n"
     ]
    }
   ],
   "source": [
    "history = model.fit(ds_train, epochs=EPOCHS, validation_data=ds_test,\n",
    "    batch_size=BATCH_SIZE,\n",
    "    use_multiprocessing = True)\n",
    "mlflow.end_run()"
   ]
  },
  {
   "cell_type": "code",
   "execution_count": null,
   "metadata": {},
   "outputs": [],
   "source": []
  },
  {
   "cell_type": "code",
   "execution_count": null,
   "metadata": {},
   "outputs": [],
   "source": []
  }
 ],
 "metadata": {
  "kernelspec": {
   "display_name": "Python 3.10.6 ('tiny_cnn')",
   "language": "python",
   "name": "python3"
  },
  "language_info": {
   "codemirror_mode": {
    "name": "ipython",
    "version": 3
   },
   "file_extension": ".py",
   "mimetype": "text/x-python",
   "name": "python",
   "nbconvert_exporter": "python",
   "pygments_lexer": "ipython3",
   "version": "3.10.6"
  },
  "orig_nbformat": 4,
  "vscode": {
   "interpreter": {
    "hash": "5618f2993617940a5c26d2b4a732b1ce578923eb12d8dcc67dd41bd2b07dc9c1"
   }
  }
 },
 "nbformat": 4,
 "nbformat_minor": 2
}
